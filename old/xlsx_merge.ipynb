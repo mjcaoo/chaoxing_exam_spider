{
 "cells": [
  {
   "cell_type": "code",
   "execution_count": 1,
   "id": "548cbf53-a97e-492a-b587-9919c11d4789",
   "metadata": {},
   "outputs": [
    {
     "data": {
      "text/plain": [
       "'3.0.10'"
      ]
     },
     "execution_count": 1,
     "metadata": {},
     "output_type": "execute_result"
    }
   ],
   "source": [
    "import openpyxl\n",
    "openpyxl.__version__"
   ]
  },
  {
   "cell_type": "code",
   "execution_count": 2,
   "id": "1fb5974c-57aa-4560-a9c8-48f710ac20d0",
   "metadata": {},
   "outputs": [
    {
     "data": {
      "text/plain": [
       "['00535b7f-e226-421b-954b-8306d8a8bf4b.xlsx',\n",
       " '04e2a792-0775-49a9-bfff-9d226d859880.xlsx',\n",
       " '1fd33905-df97-45fb-a8fd-f81f002b068c.xlsx',\n",
       " '2011c4cf-715c-4bd9-9b91-c18342a0ecd4.xlsx',\n",
       " '3e40232c-db3c-4f16-ad68-fd33df54f076.xlsx',\n",
       " '4a47c475-ecec-46e0-8217-7274ea105230.xlsx',\n",
       " '4c692a1c-aa76-4b6b-b7b5-41b50e5e569e.xlsx',\n",
       " '4e204bd8-3e3e-4dce-87db-e870f9f00ae0.xlsx',\n",
       " '59636ec6-8df5-457c-a04d-ccd9b223d74a.xlsx',\n",
       " '61c1cd36-e694-496b-8d42-87667caf6e02.xlsx',\n",
       " '73aa3946-869a-40b8-876f-5dc53d8b5686.xlsx',\n",
       " '79548f27-79b9-4aed-bfce-2ea01a04efb7.xlsx',\n",
       " '7c06fb3f-e68b-4a6a-b1fc-ac67eba51974.xlsx',\n",
       " '8fa6591b-e4aa-4327-88b2-7725fb4b5da9.xlsx',\n",
       " '94736834-d539-43a6-a1ab-4e20df840506.xlsx',\n",
       " '99fe1de0-41d7-4b61-b897-efc8573123ed.xlsx',\n",
       " 'bebb1c9c-abf1-4249-ab31-7fd2838baaeb.xlsx',\n",
       " 'c4928dd3-a691-4b45-b316-75773b40c945.xlsx',\n",
       " 'e2bf3e08-f2f8-40f0-9d8c-58b23001e117.xlsx',\n",
       " 'e677c70c-04d3-4984-a3bb-b354f6236cf0.xlsx',\n",
       " 'new.xlsx']"
      ]
     },
     "execution_count": 2,
     "metadata": {},
     "output_type": "execute_result"
    }
   ],
   "source": [
    "import os\n",
    "os.listdir(\"ori\")"
   ]
  },
  {
   "cell_type": "code",
   "execution_count": 3,
   "id": "60e6cdd6-0d8b-4480-a1b0-e7707342d719",
   "metadata": {},
   "outputs": [
    {
     "data": {
      "text/plain": [
       "<openpyxl.workbook.workbook.Workbook at 0x1f3afa72e50>"
      ]
     },
     "execution_count": 3,
     "metadata": {},
     "output_type": "execute_result"
    }
   ],
   "source": [
    "wb = openpyxl.Workbook()\n",
    "wb"
   ]
  },
  {
   "cell_type": "code",
   "execution_count": 4,
   "id": "5a71cce7-9287-4001-8206-a0e56e2bae9a",
   "metadata": {},
   "outputs": [
    {
     "data": {
      "text/plain": [
       "<Worksheet \"Sheet\">"
      ]
     },
     "execution_count": 4,
     "metadata": {},
     "output_type": "execute_result"
    }
   ],
   "source": [
    "ws = wb.active\n",
    "ws"
   ]
  },
  {
   "cell_type": "code",
   "execution_count": 5,
   "id": "2be958e3-ac93-44f2-9023-91665d671107",
   "metadata": {},
   "outputs": [
    {
     "data": {
      "text/plain": [
       "[<openpyxl.workbook.workbook.Workbook at 0x1f3b0392910>,\n",
       " <openpyxl.workbook.workbook.Workbook at 0x1f3af91dfd0>,\n",
       " <openpyxl.workbook.workbook.Workbook at 0x1f3b03b9750>,\n",
       " <openpyxl.workbook.workbook.Workbook at 0x1f3b042b550>,\n",
       " <openpyxl.workbook.workbook.Workbook at 0x1f3b0451e90>,\n",
       " <openpyxl.workbook.workbook.Workbook at 0x1f3b00342d0>,\n",
       " <openpyxl.workbook.workbook.Workbook at 0x1f3b04d4e10>,\n",
       " <openpyxl.workbook.workbook.Workbook at 0x1f3b03906d0>,\n",
       " <openpyxl.workbook.workbook.Workbook at 0x1f3b04b39d0>,\n",
       " <openpyxl.workbook.workbook.Workbook at 0x1f3b05c0b50>,\n",
       " <openpyxl.workbook.workbook.Workbook at 0x1f3b04c0410>,\n",
       " <openpyxl.workbook.workbook.Workbook at 0x1f3b048c150>,\n",
       " <openpyxl.workbook.workbook.Workbook at 0x1f3b065b610>,\n",
       " <openpyxl.workbook.workbook.Workbook at 0x1f3b0677310>,\n",
       " <openpyxl.workbook.workbook.Workbook at 0x1f3b05e4190>,\n",
       " <openpyxl.workbook.workbook.Workbook at 0x1f3b07a5810>,\n",
       " <openpyxl.workbook.workbook.Workbook at 0x1f3b060f3d0>,\n",
       " <openpyxl.workbook.workbook.Workbook at 0x1f3b0451990>,\n",
       " <openpyxl.workbook.workbook.Workbook at 0x1f3b0883f50>,\n",
       " <openpyxl.workbook.workbook.Workbook at 0x1f3b03c3710>,\n",
       " <openpyxl.workbook.workbook.Workbook at 0x1f3b0880950>]"
      ]
     },
     "execution_count": 5,
     "metadata": {},
     "output_type": "execute_result"
    }
   ],
   "source": [
    "wbs = [openpyxl.load_workbook(os.path.join(\"ori\", file)) for file in os.listdir(\"ori\")]\n",
    "wbs"
   ]
  },
  {
   "cell_type": "code",
   "execution_count": 6,
   "id": "57c906da-bdf6-4f4f-a68f-a171ecc7f51d",
   "metadata": {},
   "outputs": [
    {
     "name": "stdout",
     "output_type": "stream",
     "text": [
      "Sheet1\n",
      "80\n",
      "Sheet1\n",
      "80\n",
      "Sheet1\n",
      "80\n",
      "Sheet1\n",
      "80\n",
      "Sheet1\n",
      "80\n",
      "Sheet1\n",
      "80\n",
      "Sheet1\n",
      "80\n",
      "Sheet1\n",
      "80\n",
      "Sheet1\n",
      "80\n",
      "Sheet1\n",
      "80\n",
      "Sheet1\n",
      "80\n",
      "Sheet1\n",
      "80\n",
      "Sheet1\n",
      "80\n",
      "Sheet1\n",
      "80\n",
      "Sheet1\n",
      "80\n",
      "Sheet1\n",
      "80\n",
      "Sheet1\n",
      "80\n",
      "Sheet1\n",
      "80\n",
      "Sheet1\n",
      "80\n",
      "Sheet1\n",
      "80\n",
      "Sheet\n",
      "0\n"
     ]
    }
   ],
   "source": [
    "for file in wbs:\n",
    "    ws_active = file.active\n",
    "    ws_active.delete_rows(1)\n",
    "    print(ws_active.title)\n",
    "    i = 0\n",
    "    for row in ws_active.values:\n",
    "        ws.append(row)\n",
    "        i += 1\n",
    "    print(i)"
   ]
  },
  {
   "cell_type": "code",
   "execution_count": 7,
   "id": "fda9bf49-50e2-4609-9dfc-ae35fe3c08ee",
   "metadata": {},
   "outputs": [],
   "source": [
    "ws.delete_cols(1)"
   ]
  },
  {
   "cell_type": "code",
   "execution_count": 8,
   "id": "d3e7d0f3-c86e-4507-8ace-28476f2da736",
   "metadata": {},
   "outputs": [],
   "source": [
    "wb.save(os.path.join(\"ori\", \"new.xlsx\"))"
   ]
  }
 ],
 "metadata": {
  "kernelspec": {
   "display_name": "Python 3 (ipykernel)",
   "language": "python",
   "name": "python3"
  },
  "language_info": {
   "codemirror_mode": {
    "name": "ipython",
    "version": 3
   },
   "file_extension": ".py",
   "mimetype": "text/x-python",
   "name": "python",
   "nbconvert_exporter": "python",
   "pygments_lexer": "ipython3",
   "version": "3.11.3"
  }
 },
 "nbformat": 4,
 "nbformat_minor": 5
}
